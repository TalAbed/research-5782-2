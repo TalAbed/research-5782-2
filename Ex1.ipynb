{
 "cells": [
  {
   "cell_type": "markdown",
   "metadata": {},
   "source": [
    "# Exercise 1"
   ]
  },
  {
   "cell_type": "markdown",
   "metadata": {},
   "source": [
    "## Code"
   ]
  },
  {
   "cell_type": "code",
   "execution_count": 4,
   "metadata": {},
   "outputs": [],
   "source": [
    "import importlib"
   ]
  },
  {
   "cell_type": "code",
   "execution_count": 5,
   "metadata": {},
   "outputs": [],
   "source": [
    "# The function gets name of python file and create an html file as required\n",
    "\n",
    "def create_html (module_file, output_file):\n",
    "    file_name = module_file.replace('.py', '')\n",
    "    m = importlib.import_module(file_name)\n",
    "    #create the html file\n",
    "    with open(output_file, \"w\") as file:\n",
    "        file.write(\"<html>\\n<head>\\n<title>\\nDoc\\n</title>\") # beggining of every html file\n",
    "        file.write(\"\\n</head> <body><h1>Module \" + module_file + \":</h1>\")\n",
    "        file.write(\"\\n\"+m.__doc__)\n",
    "        for func in m.__dir__():\n",
    "            if \"__\" not in func:\n",
    "                file.write(\"\\n<h1> Function name: \" + str(func) + \" </h1>\")\n",
    "                doc = \"m.\"+func+\".__doc__\"\n",
    "                file.write(\"\\n<h2> Documantation of the function: \" + eval(doc) + \" </h2>\")\n",
    "                anno = \"m.\" + func + \".__annotations__\"\n",
    "                file.write(\"\\n<h3> Annotationsof the funtion: \" + str(anno) + \" </h3>\")\n",
    "                file.write(\"\\n\")\n"
   ]
  },
  {
   "cell_type": "markdown",
   "metadata": {},
   "source": [
    "## running sample"
   ]
  },
  {
   "cell_type": "code",
   "execution_count": 6,
   "metadata": {},
   "outputs": [],
   "source": [
    "create_html(\"mymodule.py\", \"output.html\")"
   ]
  }
 ],
 "metadata": {
  "interpreter": {
   "hash": "5e00cd03ab671ba4a51c5b060530d245c0e059b462a0bb3c7cee5b0e9a4ce6e1"
  },
  "kernelspec": {
   "display_name": "Python 3.8.5 ('base')",
   "language": "python",
   "name": "python3"
  },
  "language_info": {
   "codemirror_mode": {
    "name": "ipython",
    "version": 3
   },
   "file_extension": ".py",
   "mimetype": "text/x-python",
   "name": "python",
   "nbconvert_exporter": "python",
   "pygments_lexer": "ipython3",
   "version": "3.8.5"
  },
  "orig_nbformat": 4
 },
 "nbformat": 4,
 "nbformat_minor": 2
}
