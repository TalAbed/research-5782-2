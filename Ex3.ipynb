{
 "cells": [
  {
   "cell_type": "markdown",
   "metadata": {},
   "source": [
    "# Exercise 3"
   ]
  },
  {
   "cell_type": "markdown",
   "metadata": {},
   "source": [
    "## Code"
   ]
  },
  {
   "cell_type": "code",
   "execution_count": 3,
   "metadata": {},
   "outputs": [],
   "source": [
    "class List(list):\n",
    "    def __getitem__(self, key):\n",
    "        if isinstance(key,int):\n",
    "            return super().__getitem__(key)\n",
    "        else:\n",
    "            temp = self\n",
    "            for i in key:\n",
    "                temp = temp[i]\n",
    "            return temp\n",
    "    \n",
    "    def __setitem__(self, key, value):\n",
    "        if isinstance(key,int):\n",
    "            super().__setitem__(key,value)\n",
    "        else:\n",
    "            temp = self\n",
    "            p_value = self\n",
    "            for i in key:\n",
    "                p_value = temp\n",
    "                temp = temp[i]\n",
    "            p_value[i] = value"
   ]
  },
  {
   "cell_type": "markdown",
   "metadata": {},
   "source": [
    "## tests"
   ]
  },
  {
   "cell_type": "code",
   "execution_count": 14,
   "metadata": {},
   "outputs": [],
   "source": [
    "l = List([1,2,[0,[10,20]],3])\n",
    "assert (l[2,1,0]==10)\n",
    "assert (l[3]==3)\n",
    "mylist = List([\n",
    "[[1,2,3,33],[4,5,6,66]],\n",
    "[[7,8,9,99],[10,11,12,122]],\n",
    "[[13,14,15,155],[16,17,18,188]],])\n",
    "assert(mylist[0,1,3]==66)\n",
    "assert(mylist[0]==[[1,2,3,33],[4,5,6,66]])\n",
    "mylist[0,0,0] = 4\n",
    "assert(mylist==[[[4,2,3,33],[4,5,6,66]], [[7,8,9,99],[10,11,12,122]], [[13,14,15,155],[16,17,18,188]],])\n",
    "mylist[1] = [1,2,3]\n",
    "assert(mylist==[[[4,2,3,33],[4,5,6,66]], [1,2,3], [[13,14,15,155],[16,17,18,188]],])"
   ]
  }
 ],
 "metadata": {
  "interpreter": {
   "hash": "5e00cd03ab671ba4a51c5b060530d245c0e059b462a0bb3c7cee5b0e9a4ce6e1"
  },
  "kernelspec": {
   "display_name": "Python 3.8.5 ('base')",
   "language": "python",
   "name": "python3"
  },
  "language_info": {
   "codemirror_mode": {
    "name": "ipython",
    "version": 3
   },
   "file_extension": ".py",
   "mimetype": "text/x-python",
   "name": "python",
   "nbconvert_exporter": "python",
   "pygments_lexer": "ipython3",
   "version": "3.8.5"
  },
  "orig_nbformat": 4
 },
 "nbformat": 4,
 "nbformat_minor": 2
}
